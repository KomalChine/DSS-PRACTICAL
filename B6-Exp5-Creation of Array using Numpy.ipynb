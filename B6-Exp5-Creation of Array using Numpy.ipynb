{
 "cells": [
  {
   "cell_type": "markdown",
   "id": "76c3e0b9-f6a4-4dbf-9cfe-10fae2c50855",
   "metadata": {},
   "source": [
    "# Creation of Array"
   ]
  },
  {
   "cell_type": "code",
   "execution_count": 3,
   "id": "9724d322-79e5-4f72-9055-d9baccab0280",
   "metadata": {},
   "outputs": [],
   "source": [
    "#Exp:5"
   ]
  },
  {
   "cell_type": "code",
   "execution_count": 3,
   "id": "7a5bad1f-8c11-49d0-9887-22f342611690",
   "metadata": {},
   "outputs": [],
   "source": [
    "# Aim: To create array using Numpy"
   ]
  },
  {
   "cell_type": "code",
   "execution_count": 1,
   "id": "0fa51d3b-81e3-4ae5-a27b-49803216c501",
   "metadata": {},
   "outputs": [],
   "source": [
    "# Name: Komal Chine\n",
    "#Sec: B\n",
    "#Subject: ET-I\n",
    "#Roll no.: 6\n",
    "#Date: 02/08/2024"
   ]
  },
  {
   "cell_type": "code",
   "execution_count": 7,
   "id": "2698c843-dc86-49be-a02d-929049f4a943",
   "metadata": {},
   "outputs": [],
   "source": [
    "import numpy as np"
   ]
  },
  {
   "cell_type": "code",
   "execution_count": 9,
   "id": "63b6c606-177a-4703-8490-6a2104159804",
   "metadata": {},
   "outputs": [],
   "source": [
    "x=np.array([10,35,24,73])"
   ]
  },
  {
   "cell_type": "code",
   "execution_count": 11,
   "id": "f0f75ffa-22d7-4487-b8a1-dfb34cf001bd",
   "metadata": {},
   "outputs": [
    {
     "data": {
      "text/plain": [
       "numpy.ndarray"
      ]
     },
     "execution_count": 11,
     "metadata": {},
     "output_type": "execute_result"
    }
   ],
   "source": [
    "type(x)"
   ]
  },
  {
   "cell_type": "code",
   "execution_count": 13,
   "id": "b6646afe-7f26-4679-8f7e-2fc943cab3c0",
   "metadata": {},
   "outputs": [],
   "source": [
    "y=np.array([[43,72,91,20],[2,4,15,27]])"
   ]
  },
  {
   "cell_type": "code",
   "execution_count": 15,
   "id": "6f5ee038-2faa-4dfb-bc1d-ccdb6c52a708",
   "metadata": {},
   "outputs": [
    {
     "data": {
      "text/plain": [
       "numpy.ndarray"
      ]
     },
     "execution_count": 15,
     "metadata": {},
     "output_type": "execute_result"
    }
   ],
   "source": [
    "type(y)"
   ]
  },
  {
   "cell_type": "code",
   "execution_count": 17,
   "id": "09e225a1-056b-4d0c-9b09-ef138bed8c61",
   "metadata": {},
   "outputs": [],
   "source": [
    "z=np.array([[23,15,68,43],[7,89,34,15],[90,42,61,72]])"
   ]
  },
  {
   "cell_type": "code",
   "execution_count": 19,
   "id": "d7ee37ee-46ce-44c5-92f3-09778c839a41",
   "metadata": {},
   "outputs": [
    {
     "data": {
      "text/plain": [
       "numpy.ndarray"
      ]
     },
     "execution_count": 19,
     "metadata": {},
     "output_type": "execute_result"
    }
   ],
   "source": [
    "type(z)"
   ]
  },
  {
   "cell_type": "code",
   "execution_count": null,
   "id": "284947ac-8e8d-4716-912e-b58bc4ad9ad5",
   "metadata": {},
   "outputs": [],
   "source": []
  }
 ],
 "metadata": {
  "kernelspec": {
   "display_name": "Python 3 (ipykernel)",
   "language": "python",
   "name": "python3"
  },
  "language_info": {
   "codemirror_mode": {
    "name": "ipython",
    "version": 3
   },
   "file_extension": ".py",
   "mimetype": "text/x-python",
   "name": "python",
   "nbconvert_exporter": "python",
   "pygments_lexer": "ipython3",
   "version": "3.12.4"
  }
 },
 "nbformat": 4,
 "nbformat_minor": 5
}
