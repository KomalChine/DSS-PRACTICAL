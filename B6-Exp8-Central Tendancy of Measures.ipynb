{
 "cells": [
  {
   "cell_type": "markdown",
   "id": "17edebbc-0106-445b-be4d-f592ed4c2a65",
   "metadata": {},
   "source": [
    "# Central Tendancy of Measures"
   ]
  },
  {
   "cell_type": "code",
   "execution_count": 1,
   "id": "8a020aac-dbb2-421a-937e-fa12c55051c9",
   "metadata": {},
   "outputs": [],
   "source": [
    "#Exp:8"
   ]
  },
  {
   "cell_type": "code",
   "execution_count": 9,
   "id": "e539c1ca-6582-4282-b84d-bcd6b7fa0600",
   "metadata": {},
   "outputs": [],
   "source": [
    "# Aim: To perform Central Tendency of Measures"
   ]
  },
  {
   "cell_type": "code",
   "execution_count": 3,
   "id": "70856c11-18b9-4f4b-8f41-df74f5e14b9c",
   "metadata": {},
   "outputs": [],
   "source": [
    "# Name: Komal Chine\n",
    "#Sec: B\n",
    "#Subject: ET-I\n",
    "#Roll no.: 6\n",
    "#Date: 06/09/2024"
   ]
  },
  {
   "cell_type": "code",
   "execution_count": 11,
   "id": "b5907941-d710-4426-a226-f583f0230f8a",
   "metadata": {},
   "outputs": [],
   "source": [
    "import statistics as st"
   ]
  },
  {
   "cell_type": "code",
   "execution_count": 12,
   "id": "8c10cec6-c9f4-491f-8b6f-b7d65a16698b",
   "metadata": {},
   "outputs": [],
   "source": [
    "age=[21,22,21,23,22,21,22,21,23,22,21,22,21,23,22]"
   ]
  },
  {
   "cell_type": "code",
   "execution_count": 18,
   "id": "8d4c5280-edae-47c4-bde9-5e767b8ee858",
   "metadata": {},
   "outputs": [
    {
     "data": {
      "text/plain": [
       "[21, 22, 21, 23, 22, 21, 22, 21, 23, 22, 21, 22, 21, 23, 22]"
      ]
     },
     "execution_count": 18,
     "metadata": {},
     "output_type": "execute_result"
    }
   ],
   "source": [
    "age"
   ]
  },
  {
   "cell_type": "code",
   "execution_count": 20,
   "id": "1ad124ce-a054-4f1d-a1a4-6f26ed7da7f3",
   "metadata": {},
   "outputs": [],
   "source": [
    "Mean=st.mean(age)"
   ]
  },
  {
   "cell_type": "code",
   "execution_count": 22,
   "id": "f7d17817-2e31-4426-9c53-56b2b800e6e1",
   "metadata": {},
   "outputs": [
    {
     "data": {
      "text/plain": [
       "21.8"
      ]
     },
     "execution_count": 22,
     "metadata": {},
     "output_type": "execute_result"
    }
   ],
   "source": [
    "Mean"
   ]
  },
  {
   "cell_type": "code",
   "execution_count": 26,
   "id": "0464732a-77d0-43c9-8d7e-7384416c7852",
   "metadata": {},
   "outputs": [],
   "source": [
    "Median=st.median(age)"
   ]
  },
  {
   "cell_type": "code",
   "execution_count": 28,
   "id": "3cab6089-b865-4f57-b445-7729a7eb8bee",
   "metadata": {},
   "outputs": [
    {
     "data": {
      "text/plain": [
       "22"
      ]
     },
     "execution_count": 28,
     "metadata": {},
     "output_type": "execute_result"
    }
   ],
   "source": [
    "Median"
   ]
  },
  {
   "cell_type": "code",
   "execution_count": 30,
   "id": "15f29b17-92df-4323-8625-cb1edf393fa1",
   "metadata": {},
   "outputs": [],
   "source": [
    "Mode=st.mode(age)"
   ]
  },
  {
   "cell_type": "code",
   "execution_count": 32,
   "id": "d1e7e1bd-aed8-47ed-bbb2-08db8ab1d893",
   "metadata": {},
   "outputs": [
    {
     "data": {
      "text/plain": [
       "21"
      ]
     },
     "execution_count": 32,
     "metadata": {},
     "output_type": "execute_result"
    }
   ],
   "source": [
    "Mode"
   ]
  },
  {
   "cell_type": "code",
   "execution_count": null,
   "id": "8dfa3419-a5dc-4d91-b652-989a47df6e46",
   "metadata": {},
   "outputs": [],
   "source": []
  }
 ],
 "metadata": {
  "kernelspec": {
   "display_name": "Python 3 (ipykernel)",
   "language": "python",
   "name": "python3"
  },
  "language_info": {
   "codemirror_mode": {
    "name": "ipython",
    "version": 3
   },
   "file_extension": ".py",
   "mimetype": "text/x-python",
   "name": "python",
   "nbconvert_exporter": "python",
   "pygments_lexer": "ipython3",
   "version": "3.12.4"
  }
 },
 "nbformat": 4,
 "nbformat_minor": 5
}
